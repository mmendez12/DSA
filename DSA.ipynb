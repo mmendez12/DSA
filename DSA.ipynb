{
 "cells": [
  {
   "cell_type": "code",
   "execution_count": 433,
   "metadata": {
    "collapsed": true
   },
   "outputs": [],
   "source": [
    "import numpy as np\n",
    "import random"
   ]
  },
  {
   "cell_type": "code",
   "execution_count": 491,
   "metadata": {
    "collapsed": false
   },
   "outputs": [],
   "source": [
    "class Player:\n",
    "    \n",
    "    def __init__(self, name):\n",
    "        self.name = name\n",
    "        self.bag = []\n",
    "        self.stock = []\n",
    "        self.position = -1\n",
    "        self.direction = 1\n",
    "        self.on_board = True\n",
    "    \n",
    "    def transfer_bag(self):\n",
    "        self.stock.extend(self.bag)\n",
    "        self.bag = []\n",
    "    \n",
    "    def total_score(self):\n",
    "        return sum(chip.value for chip in self.bag)\n",
    "    \n",
    "    def move(self, dice_roll, board):\n",
    "        n_chip = len(self.bag)\n",
    "        n_step = max(0, dice_roll - n_chip)\n",
    "        \n",
    "        board.tile_status[self.position] = 0\n",
    "        \n",
    "        while n_step:\n",
    "            self.position += self.direction\n",
    "            \n",
    "            if not board.is_occupied(self.position): \n",
    "                n_step -= 1\n",
    "\n",
    "        self.position = min(self.position, board.road_len)\n",
    "        board.tile_status[self.position] = 1\n",
    "        \n",
    "    def take_chip(self, board):\n",
    "        self.bag.append(board.road[self.position])\n",
    "        board.road[self.position] = make_empty_chip()\n",
    "    \n",
    "    def show_bag(self):\n",
    "        print('idx: level')\n",
    "        for i, chip in enumerate(self.bag):\n",
    "            print('{}: {}'.format(i, chip.level))\n",
    "    \n",
    "    @property\n",
    "    def is_onboard(self):\n",
    "        return self.position >= 0\n",
    "    \n",
    "    @property\n",
    "    def is_back(self):\n",
    "        return (not self.is_onboard) and (self.direction == -1)\n",
    "    \n",
    "    def __repr__(self):\n",
    "        return f\"Player(name={self.name}, bag={self.bag}, stock={self.stock}, position={self.position})\""
   ]
  },
  {
   "cell_type": "code",
   "execution_count": 492,
   "metadata": {
    "collapsed": true
   },
   "outputs": [],
   "source": [
    "class Submarine:\n",
    "    \n",
    "    def __init__(self):\n",
    "        self.air = 25\n",
    "            \n",
    "    def reduce_air(self, player):\n",
    "        n_chip = len(player.bag)\n",
    "        self.air = max(0, self.air - n_chip)\n",
    "        return self.air\n",
    "    \n",
    "    def __repr__(self):\n",
    "        return f\"Submarine(air={self.air})\""
   ]
  },
  {
   "cell_type": "code",
   "execution_count": 510,
   "metadata": {
    "collapsed": true
   },
   "outputs": [],
   "source": [
    "class Chip:\n",
    "    \n",
    "    def __init__(self, level, value):\n",
    "        self.level = level\n",
    "        self.value = value\n",
    "        \n",
    "    @property\n",
    "    def is_empty(self):\n",
    "        return self.level == 0\n",
    "        \n",
    "    def __repr__(self):\n",
    "        return f\"Chip(level={self.level}), value={self.value})\""
   ]
  },
  {
   "cell_type": "code",
   "execution_count": 511,
   "metadata": {
    "collapsed": true
   },
   "outputs": [],
   "source": [
    "class Board:\n",
    "    \n",
    "    def __init__(self, chip_dict):\n",
    "        self.road_len = sum(len(l) for l in chip_dict.values()) \n",
    "        self.tile_status = [0] * self.road_len\n",
    "        self.road = []\n",
    "        \n",
    "        \n",
    "        for level in range(1, 5):\n",
    "            chips = chip_dict[level][:]\n",
    "            random.shuffle(chips)\n",
    "            \n",
    "            self.road.extend(chips)\n",
    "            \n",
    "    def is_occupied(self, idx):\n",
    "        return self.tile_status[idx] == 1\n",
    "\n",
    "    def __repr__(self):\n",
    "        return \", \".join([chip.level for chip in self.road])"
   ]
  },
  {
   "cell_type": "code",
   "execution_count": 512,
   "metadata": {
    "collapsed": true
   },
   "outputs": [],
   "source": [
    "# class Deck:\n",
    "    \n",
    "#     def __init__"
   ]
  },
  {
   "cell_type": "code",
   "execution_count": 513,
   "metadata": {
    "collapsed": true
   },
   "outputs": [],
   "source": [
    "CHIPS = {}\n",
    "# CHIP_VALUES = [(i+1, j+4*i) for i in range(4) for j in range(4)]\n",
    "\n",
    "# for level, value in CHIP_VALUES:\n",
    "#     CHIPS.append(Chip(level, value))\n",
    "#     CHIPS.append(Chip(level, value))\n",
    "\n",
    "for level in range(4):\n",
    "    chips = []\n",
    "    for value in range(4):\n",
    "        value = value + 4 * level\n",
    "        chip = Chip(level + 1, value)\n",
    "        chips.append(chip)\n",
    "        chips.append(chip)\n",
    "    \n",
    "    CHIPS[level + 1] = chips"
   ]
  },
  {
   "cell_type": "code",
   "execution_count": 514,
   "metadata": {
    "collapsed": true
   },
   "outputs": [],
   "source": [
    "def make_empty_chip():\n",
    "    return Chip(level=0, value=0)"
   ]
  },
  {
   "cell_type": "code",
   "execution_count": 515,
   "metadata": {
    "collapsed": false
   },
   "outputs": [],
   "source": [
    "def roll_dice():\n",
    "    return np.random.randint(low=1, high=4, size=2).sum()"
   ]
  },
  {
   "cell_type": "code",
   "execution_count": 516,
   "metadata": {
    "collapsed": false
   },
   "outputs": [],
   "source": [
    "board = Board(CHIPS)"
   ]
  },
  {
   "cell_type": "code",
   "execution_count": 517,
   "metadata": {
    "collapsed": false
   },
   "outputs": [],
   "source": [
    "# def finish_roundb"
   ]
  },
  {
   "cell_type": "code",
   "execution_count": 518,
   "metadata": {
    "collapsed": false
   },
   "outputs": [],
   "source": [
    "players = [Player('Player {}'.format(i)) for i in range(1, 5)]"
   ]
  },
  {
   "cell_type": "code",
   "execution_count": 519,
   "metadata": {
    "collapsed": false
   },
   "outputs": [
    {
     "data": {
      "text/plain": [
       "False"
      ]
     },
     "execution_count": 519,
     "metadata": {},
     "output_type": "execute_result"
    }
   ],
   "source": [
    "players[0].is_back"
   ]
  },
  {
   "cell_type": "code",
   "execution_count": 522,
   "metadata": {
    "collapsed": false
   },
   "outputs": [],
   "source": [
    "class Game:\n",
    "    \n",
    "    def __init__(self, submarine, board, players):\n",
    "        \n",
    "        self.board = board\n",
    "        self.players = players\n",
    "        self.players_in_submarine = []\n",
    "        self.submarine = submarine\n",
    "        \n",
    "        \n",
    "        n_round = 3\n",
    "        \n",
    "        for cur_round in range(n_round):\n",
    "            print('Round {}'.format(cur_round))\n",
    "            \n",
    "            while (self.submarine.air > 0) or (any(player.on_board for player in self.players)):\n",
    "                \n",
    "                for player in self.players:\n",
    "                    print('{} turn'.format(player.name))\n",
    "                    \n",
    "                    if player.is_back:\n",
    "                        continue\n",
    "                    \n",
    "                    #reduce_air\n",
    "                    self.submarine.reduce_air(player)\n",
    "                    \n",
    "                    if (player.direction == 1) and player.on_board:\n",
    "                        if input(\"Going back? (y/n)\").lower() == 'y':\n",
    "                            player.direction = -1\n",
    "                        \n",
    "                    #roll dice\n",
    "                    dice_roll = roll_dice()\n",
    "                    player.move(dice_roll, self.board)\n",
    "                        \n",
    "                    cur_chip = self.board.road[player.position]\n",
    "                    \n",
    "                    if not cur_chip.is_empty:\n",
    "                        if input('Take level {} chip? (y/n)'.format(cur_chip.level)).lower() == 'y':\n",
    "                            player.take_chip(board)\n",
    "                    elif (cur_chip.is_empty) and (player.bag):\n",
    "                        player.show_bag()\n",
    "                        while True:\n",
    "                            chip_idx = input('Drop chip?\\n{}\\Type a number or n'.format(bag_str))\n",
    "                            if chip_idx == 'n':\n",
    "                                break\n",
    "                            elif not chip_idx.isdigit():\n",
    "                                print('Input is not a digit')\n",
    "                                continue\n",
    "                            elif chip_idx not in [range(len(player.bag))]:\n",
    "                                print('Input not in index')\n",
    "                                continue\n",
    "                            else:\n",
    "                                self.board.road[player.position] = player.bag.pop(chip_idx)\n",
    "                                break"
   ]
  },
  {
   "cell_type": "code",
   "execution_count": 504,
   "metadata": {
    "collapsed": true
   },
   "outputs": [],
   "source": [
    "# def plot_gameboard(board, players):\n",
    "#     for player in players:\n",
    "#         print(player)"
   ]
  },
  {
   "cell_type": "code",
   "execution_count": 505,
   "metadata": {
    "collapsed": true
   },
   "outputs": [],
   "source": [
    "# import numpy as np"
   ]
  },
  {
   "cell_type": "code",
   "execution_count": 509,
   "metadata": {
    "collapsed": false
   },
   "outputs": [
    {
     "name": "stdout",
     "output_type": "stream",
     "text": [
      "(0, 0, 1)\n",
      "(1, 0, 1)\n",
      "(2, 0, 1)\n",
      "(3, 1, 0)\n",
      "(4, 0, 1)\n",
      "(5, 0, 1)\n",
      "(6, 0, 1)\n",
      "(7, 0, 1)\n",
      "(8, 0, 2)\n",
      "(9, 0, 2)\n",
      "(10, 0, 2)\n",
      "(11, 0, 2)\n",
      "(12, 0, 2)\n",
      "(13, 0, 2)\n",
      "(14, 0, 2)\n",
      "(15, 0, 2)\n",
      "(16, 0, 3)\n",
      "(17, 0, 3)\n",
      "(18, 0, 3)\n",
      "(19, 0, 3)\n",
      "(20, 0, 3)\n",
      "(21, 0, 3)\n",
      "(22, 0, 3)\n",
      "(23, 0, 3)\n",
      "(24, 0, 4)\n",
      "(25, 0, 4)\n",
      "(26, 0, 4)\n",
      "(27, 0, 4)\n",
      "(28, 0, 4)\n",
      "(29, 0, 4)\n",
      "(30, 0, 4)\n",
      "(31, 0, 4)\n"
     ]
    }
   ],
   "source": [
    "for i in zip(*[list(range(board.road_len)), board.tile_status, [c.level for c in board.road]]):\n",
    "    print (i)\n"
   ]
  },
  {
   "cell_type": "code",
   "execution_count": 507,
   "metadata": {
    "collapsed": false
   },
   "outputs": [],
   "source": [
    "# plot_gameboard(board, players)"
   ]
  },
  {
   "cell_type": "code",
   "execution_count": 508,
   "metadata": {
    "collapsed": false
   },
   "outputs": [
    {
     "name": "stdout",
     "output_type": "stream",
     "text": [
      "Round 0\n",
      "Player 1 turn\n",
      "Going back? (y/n)n\n",
      "Take level 1 chip? (y/n)y\n",
      "Player 2 turn\n"
     ]
    },
    {
     "ename": "KeyboardInterrupt",
     "evalue": "",
     "output_type": "error",
     "traceback": [
      "\u001b[0;31m---------------------------------------------------------------------------\u001b[0m",
      "\u001b[0;31mKeyboardInterrupt\u001b[0m                         Traceback (most recent call last)",
      "\u001b[0;32m/home/mickael/anaconda3/lib/python3.6/site-packages/ipykernel/kernelbase.py\u001b[0m in \u001b[0;36m_input_request\u001b[0;34m(self, prompt, ident, parent, password)\u001b[0m\n\u001b[1;32m    718\u001b[0m             \u001b[0;32mtry\u001b[0m\u001b[0;34m:\u001b[0m\u001b[0;34m\u001b[0m\u001b[0m\n\u001b[0;32m--> 719\u001b[0;31m                 \u001b[0mident\u001b[0m\u001b[0;34m,\u001b[0m \u001b[0mreply\u001b[0m \u001b[0;34m=\u001b[0m \u001b[0mself\u001b[0m\u001b[0;34m.\u001b[0m\u001b[0msession\u001b[0m\u001b[0;34m.\u001b[0m\u001b[0mrecv\u001b[0m\u001b[0;34m(\u001b[0m\u001b[0mself\u001b[0m\u001b[0;34m.\u001b[0m\u001b[0mstdin_socket\u001b[0m\u001b[0;34m,\u001b[0m \u001b[0;36m0\u001b[0m\u001b[0;34m)\u001b[0m\u001b[0;34m\u001b[0m\u001b[0m\n\u001b[0m\u001b[1;32m    720\u001b[0m             \u001b[0;32mexcept\u001b[0m \u001b[0mException\u001b[0m\u001b[0;34m:\u001b[0m\u001b[0;34m\u001b[0m\u001b[0m\n",
      "\u001b[0;32m/home/mickael/anaconda3/lib/python3.6/site-packages/jupyter_client/session.py\u001b[0m in \u001b[0;36mrecv\u001b[0;34m(self, socket, mode, content, copy)\u001b[0m\n\u001b[1;32m    738\u001b[0m         \u001b[0;32mtry\u001b[0m\u001b[0;34m:\u001b[0m\u001b[0;34m\u001b[0m\u001b[0m\n\u001b[0;32m--> 739\u001b[0;31m             \u001b[0mmsg_list\u001b[0m \u001b[0;34m=\u001b[0m \u001b[0msocket\u001b[0m\u001b[0;34m.\u001b[0m\u001b[0mrecv_multipart\u001b[0m\u001b[0;34m(\u001b[0m\u001b[0mmode\u001b[0m\u001b[0;34m,\u001b[0m \u001b[0mcopy\u001b[0m\u001b[0;34m=\u001b[0m\u001b[0mcopy\u001b[0m\u001b[0;34m)\u001b[0m\u001b[0;34m\u001b[0m\u001b[0m\n\u001b[0m\u001b[1;32m    740\u001b[0m         \u001b[0;32mexcept\u001b[0m \u001b[0mzmq\u001b[0m\u001b[0;34m.\u001b[0m\u001b[0mZMQError\u001b[0m \u001b[0;32mas\u001b[0m \u001b[0me\u001b[0m\u001b[0;34m:\u001b[0m\u001b[0;34m\u001b[0m\u001b[0m\n",
      "\u001b[0;32m/home/mickael/anaconda3/lib/python3.6/site-packages/zmq/sugar/socket.py\u001b[0m in \u001b[0;36mrecv_multipart\u001b[0;34m(self, flags, copy, track)\u001b[0m\n\u001b[1;32m    394\u001b[0m         \"\"\"\n\u001b[0;32m--> 395\u001b[0;31m         \u001b[0mparts\u001b[0m \u001b[0;34m=\u001b[0m \u001b[0;34m[\u001b[0m\u001b[0mself\u001b[0m\u001b[0;34m.\u001b[0m\u001b[0mrecv\u001b[0m\u001b[0;34m(\u001b[0m\u001b[0mflags\u001b[0m\u001b[0;34m,\u001b[0m \u001b[0mcopy\u001b[0m\u001b[0;34m=\u001b[0m\u001b[0mcopy\u001b[0m\u001b[0;34m,\u001b[0m \u001b[0mtrack\u001b[0m\u001b[0;34m=\u001b[0m\u001b[0mtrack\u001b[0m\u001b[0;34m)\u001b[0m\u001b[0;34m]\u001b[0m\u001b[0;34m\u001b[0m\u001b[0m\n\u001b[0m\u001b[1;32m    396\u001b[0m         \u001b[0;31m# have first part already, only loop while more to receive\u001b[0m\u001b[0;34m\u001b[0m\u001b[0;34m\u001b[0m\u001b[0m\n",
      "\u001b[0;32mzmq/backend/cython/socket.pyx\u001b[0m in \u001b[0;36mzmq.backend.cython.socket.Socket.recv (zmq/backend/cython/socket.c:7683)\u001b[0;34m()\u001b[0m\n",
      "\u001b[0;32mzmq/backend/cython/socket.pyx\u001b[0m in \u001b[0;36mzmq.backend.cython.socket.Socket.recv (zmq/backend/cython/socket.c:7460)\u001b[0;34m()\u001b[0m\n",
      "\u001b[0;32mzmq/backend/cython/socket.pyx\u001b[0m in \u001b[0;36mzmq.backend.cython.socket._recv_copy (zmq/backend/cython/socket.c:2344)\u001b[0;34m()\u001b[0m\n",
      "\u001b[0;32m/home/mickael/anaconda3/lib/python3.6/site-packages/zmq/backend/cython/checkrc.pxd\u001b[0m in \u001b[0;36mzmq.backend.cython.checkrc._check_rc (zmq/backend/cython/socket.c:9621)\u001b[0;34m()\u001b[0m\n",
      "\u001b[0;31mKeyboardInterrupt\u001b[0m: ",
      "\nDuring handling of the above exception, another exception occurred:\n",
      "\u001b[0;31mKeyboardInterrupt\u001b[0m                         Traceback (most recent call last)",
      "\u001b[0;32m<ipython-input-508-323b09eb3ea5>\u001b[0m in \u001b[0;36m<module>\u001b[0;34m()\u001b[0m\n\u001b[0;32m----> 1\u001b[0;31m \u001b[0mGame\u001b[0m\u001b[0;34m(\u001b[0m\u001b[0msubmarine\u001b[0m\u001b[0;34m=\u001b[0m\u001b[0mSubmarine\u001b[0m\u001b[0;34m(\u001b[0m\u001b[0;34m)\u001b[0m\u001b[0;34m,\u001b[0m \u001b[0mboard\u001b[0m\u001b[0;34m=\u001b[0m\u001b[0mboard\u001b[0m\u001b[0;34m,\u001b[0m \u001b[0mplayers\u001b[0m\u001b[0;34m=\u001b[0m\u001b[0mplayers\u001b[0m\u001b[0;34m)\u001b[0m\u001b[0;34m\u001b[0m\u001b[0m\n\u001b[0m",
      "\u001b[0;32m<ipython-input-503-58e023634fec>\u001b[0m in \u001b[0;36m__init__\u001b[0;34m(self, submarine, board, players)\u001b[0m\n\u001b[1;32m     26\u001b[0m \u001b[0;34m\u001b[0m\u001b[0m\n\u001b[1;32m     27\u001b[0m                     \u001b[0;32mif\u001b[0m \u001b[0;34m(\u001b[0m\u001b[0mplayer\u001b[0m\u001b[0;34m.\u001b[0m\u001b[0mdirection\u001b[0m \u001b[0;34m==\u001b[0m \u001b[0;36m1\u001b[0m\u001b[0;34m)\u001b[0m\u001b[0;34m:\u001b[0m\u001b[0;34m\u001b[0m\u001b[0m\n\u001b[0;32m---> 28\u001b[0;31m                         \u001b[0;32mif\u001b[0m \u001b[0minput\u001b[0m\u001b[0;34m(\u001b[0m\u001b[0;34m\"Going back? (y/n)\"\u001b[0m\u001b[0;34m)\u001b[0m\u001b[0;34m.\u001b[0m\u001b[0mlower\u001b[0m\u001b[0;34m(\u001b[0m\u001b[0;34m)\u001b[0m \u001b[0;34m==\u001b[0m \u001b[0;34m'y'\u001b[0m\u001b[0;34m:\u001b[0m\u001b[0;34m\u001b[0m\u001b[0m\n\u001b[0m\u001b[1;32m     29\u001b[0m                             \u001b[0mplayer\u001b[0m\u001b[0;34m.\u001b[0m\u001b[0mdirection\u001b[0m \u001b[0;34m=\u001b[0m \u001b[0;34m-\u001b[0m\u001b[0;36m1\u001b[0m\u001b[0;34m\u001b[0m\u001b[0m\n\u001b[1;32m     30\u001b[0m \u001b[0;34m\u001b[0m\u001b[0m\n",
      "\u001b[0;32m/home/mickael/anaconda3/lib/python3.6/site-packages/ipykernel/kernelbase.py\u001b[0m in \u001b[0;36mraw_input\u001b[0;34m(self, prompt)\u001b[0m\n\u001b[1;32m    692\u001b[0m             \u001b[0mself\u001b[0m\u001b[0;34m.\u001b[0m\u001b[0m_parent_ident\u001b[0m\u001b[0;34m,\u001b[0m\u001b[0;34m\u001b[0m\u001b[0m\n\u001b[1;32m    693\u001b[0m             \u001b[0mself\u001b[0m\u001b[0;34m.\u001b[0m\u001b[0m_parent_header\u001b[0m\u001b[0;34m,\u001b[0m\u001b[0;34m\u001b[0m\u001b[0m\n\u001b[0;32m--> 694\u001b[0;31m             \u001b[0mpassword\u001b[0m\u001b[0;34m=\u001b[0m\u001b[0;32mFalse\u001b[0m\u001b[0;34m,\u001b[0m\u001b[0;34m\u001b[0m\u001b[0m\n\u001b[0m\u001b[1;32m    695\u001b[0m         )\n\u001b[1;32m    696\u001b[0m \u001b[0;34m\u001b[0m\u001b[0m\n",
      "\u001b[0;32m/home/mickael/anaconda3/lib/python3.6/site-packages/ipykernel/kernelbase.py\u001b[0m in \u001b[0;36m_input_request\u001b[0;34m(self, prompt, ident, parent, password)\u001b[0m\n\u001b[1;32m    722\u001b[0m             \u001b[0;32mexcept\u001b[0m \u001b[0mKeyboardInterrupt\u001b[0m\u001b[0;34m:\u001b[0m\u001b[0;34m\u001b[0m\u001b[0m\n\u001b[1;32m    723\u001b[0m                 \u001b[0;31m# re-raise KeyboardInterrupt, to truncate traceback\u001b[0m\u001b[0;34m\u001b[0m\u001b[0;34m\u001b[0m\u001b[0m\n\u001b[0;32m--> 724\u001b[0;31m                 \u001b[0;32mraise\u001b[0m \u001b[0mKeyboardInterrupt\u001b[0m\u001b[0;34m\u001b[0m\u001b[0m\n\u001b[0m\u001b[1;32m    725\u001b[0m             \u001b[0;32melse\u001b[0m\u001b[0;34m:\u001b[0m\u001b[0;34m\u001b[0m\u001b[0m\n\u001b[1;32m    726\u001b[0m                 \u001b[0;32mbreak\u001b[0m\u001b[0;34m\u001b[0m\u001b[0m\n",
      "\u001b[0;31mKeyboardInterrupt\u001b[0m: "
     ]
    }
   ],
   "source": [
    "Game(submarine=Submarine(), board=board, players=players)"
   ]
  },
  {
   "cell_type": "code",
   "execution_count": 338,
   "metadata": {
    "collapsed": false
   },
   "outputs": [
    {
     "name": "stdout",
     "output_type": "stream",
     "text": [
      "hello\n"
     ]
    }
   ],
   "source": [
    "t = input()"
   ]
  },
  {
   "cell_type": "code",
   "execution_count": null,
   "metadata": {
    "collapsed": false
   },
   "outputs": [],
   "source": [
    "t"
   ]
  },
  {
   "cell_type": "code",
   "execution_count": 346,
   "metadata": {
    "collapsed": false
   },
   "outputs": [
    {
     "name": "stdout",
     "output_type": "stream",
     "text": [
      "hello\n"
     ]
    }
   ],
   "source": [
    "t = 1\n",
    "if t:\n",
    "    print('hello')"
   ]
  },
  {
   "cell_type": "code",
   "execution_count": 358,
   "metadata": {
    "collapsed": false
   },
   "outputs": [
    {
     "data": {
      "text/plain": [
       "True"
      ]
     },
     "execution_count": 358,
     "metadata": {},
     "output_type": "execute_result"
    }
   ],
   "source": [
    "'1'.isdigit()"
   ]
  },
  {
   "cell_type": "code",
   "execution_count": 359,
   "metadata": {
    "collapsed": true
   },
   "outputs": [],
   "source": [
    "l = []"
   ]
  },
  {
   "cell_type": "code",
   "execution_count": null,
   "metadata": {
    "collapsed": true
   },
   "outputs": [],
   "source": [
    "l.pop()"
   ]
  }
 ],
 "metadata": {
  "kernelspec": {
   "display_name": "Python [conda root]",
   "language": "python",
   "name": "conda-root-py"
  },
  "language_info": {
   "codemirror_mode": {
    "name": "ipython",
    "version": 3
   },
   "file_extension": ".py",
   "mimetype": "text/x-python",
   "name": "python",
   "nbconvert_exporter": "python",
   "pygments_lexer": "ipython3",
   "version": "3.6.0"
  }
 },
 "nbformat": 4,
 "nbformat_minor": 2
}
